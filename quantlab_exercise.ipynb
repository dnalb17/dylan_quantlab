{
 "cells": [
  {
   "cell_type": "code",
   "execution_count": 14,
   "metadata": {},
   "outputs": [],
   "source": [
    "import pandas as pd\n",
    "import numpy as np\n",
    "import datetime as datetime"
   ]
  },
  {
   "cell_type": "code",
   "execution_count": 15,
   "metadata": {},
   "outputs": [],
   "source": [
    "df = pd.read_csv(r'input.csv', index_col = False, header = None)\n",
    "df.columns = ['TimeStamp','Symbol','Quantity','Price']"
   ]
  },
  {
   "cell_type": "code",
   "execution_count": 16,
   "metadata": {},
   "outputs": [],
   "source": [
    "#Solve MaxTimeGap \n",
    "MaxTimeGap_df = df\n",
    "MaxTimeGap_df['MaxTimeGap'] = df.groupby(by = ['Symbol'])['TimeStamp'].diff().round()\n",
    "MaxTimeGap_df = pd.DataFrame(MaxTimeGap_df.groupby(by = ['Symbol'])['MaxTimeGap'].max()).astype(int)"
   ]
  },
  {
   "cell_type": "code",
   "execution_count": 17,
   "metadata": {},
   "outputs": [],
   "source": [
    "#Solve Weighted Average Price\n",
    "def vwap(df):\n",
    "    q = df.Quantity.values\n",
    "    p = df.Price.values\n",
    "    return df.assign(vwap=(p * q).cumsum() / q.cumsum())\n",
    "\n",
    "WeightedAveragePrice_Full = df.groupby(by = 'Symbol', group_keys=True).apply(vwap) #rolling vwap stored for reference\n",
    "WeightedAveragePrice_df = WeightedAveragePrice_Full.drop_duplicates(subset=[\"Symbol\"], keep=\"last\").drop(['Symbol'],axis=1) #only concerned with full interval vwap\n",
    "WeightedAveragePrice_df = WeightedAveragePrice_df.reset_index()[['Symbol','vwap']].set_index(['Symbol']).rename(columns={'vwap':'WeightedAveragePrice'}).astype(int)"
   ]
  },
  {
   "cell_type": "code",
   "execution_count": 18,
   "metadata": {},
   "outputs": [],
   "source": [
    "#Max price and total volume\n",
    "grouped = df.groupby('Symbol')\n",
    "Volume = pd.DataFrame(grouped.sum().Quantity).rename(columns={'Quantity':'Volume'})\n",
    "MaxPrice = pd.DataFrame(grouped.max().Price).rename(columns={'Price':'MaxPrice'})\n",
    "\n",
    "combined_df = Volume.merge(MaxPrice, on = 'Symbol')"
   ]
  },
  {
   "cell_type": "code",
   "execution_count": 19,
   "metadata": {},
   "outputs": [],
   "source": [
    "#merge final results and save\n",
    "result_df = (WeightedAveragePrice_df.merge(combined_df, on = ['Symbol']).merge(MaxTimeGap_df, on = ['Symbol'])).reset_index()\n",
    "result_df = result_df[['Symbol','MaxTimeGap','Volume','WeightedAveragePrice','MaxPrice']]\n",
    "result_df.to_csv(r'output.csv', index = False, header=False)"
   ]
  }
 ],
 "metadata": {
  "kernelspec": {
   "display_name": "Python 3",
   "language": "python",
   "name": "python3"
  },
  "language_info": {
   "codemirror_mode": {
    "name": "ipython",
    "version": 3
   },
   "file_extension": ".py",
   "mimetype": "text/x-python",
   "name": "python",
   "nbconvert_exporter": "python",
   "pygments_lexer": "ipython3",
   "version": "3.7.6"
  }
 },
 "nbformat": 4,
 "nbformat_minor": 4
}
